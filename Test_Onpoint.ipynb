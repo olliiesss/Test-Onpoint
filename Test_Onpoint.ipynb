{
  "cells": [
    {
      "cell_type": "code",
      "source": [
        "import pandas as pd\n",
        "\n",
        "df = pd.read_csv('/content/Data.csv') # Открытие файла\n",
        "\n",
        "unique_users = df['User_ID'].nunique()\n",
        "print(unique_users) # Вывод количества уникальных пользователей"
      ],
      "metadata": {
        "id": "7CptuMDBE84g",
        "outputId": "7c19a878-8bc0-45cd-9f4c-5a2706a464e3",
        "colab": {
          "base_uri": "https://localhost:8080/"
        }
      },
      "execution_count": 9,
      "outputs": [
        {
          "output_type": "stream",
          "name": "stdout",
          "text": [
            "2883\n"
          ]
        }
      ]
    },
    {
      "cell_type": "code",
      "source": [
        "total_opens = df['Open'].sum()\n",
        "print(total_opens) # Вывод общей суммы открытий"
      ],
      "metadata": {
        "id": "C-olCz9xGX_2",
        "outputId": "26cac3c2-091e-4a69-e49c-c99f29cacaf4",
        "colab": {
          "base_uri": "https://localhost:8080/"
        }
      },
      "execution_count": 10,
      "outputs": [
        {
          "output_type": "stream",
          "name": "stdout",
          "text": [
            "573\n"
          ]
        }
      ]
    },
    {
      "cell_type": "code",
      "source": [
        "result = total_opens / unique_users\n",
        "print(result) # Без округления\n",
        "print(round(result, 1))  # Округление до 1 знака после запятой"
      ],
      "metadata": {
        "id": "gFf8D8pXHQKb",
        "outputId": "b4a1f38f-123d-4a5d-d52d-b2f89aebc51e",
        "colab": {
          "base_uri": "https://localhost:8080/"
        }
      },
      "execution_count": 17,
      "outputs": [
        {
          "output_type": "stream",
          "name": "stdout",
          "text": [
            "0.1987513007284079\n",
            "0.2\n"
          ]
        }
      ]
    }
  ],
  "metadata": {
    "colab": {
      "name": "Welcome to Colaboratory",
      "provenance": []
    },
    "kernelspec": {
      "display_name": "Python 3",
      "name": "python3"
    }
  },
  "nbformat": 4,
  "nbformat_minor": 0
}